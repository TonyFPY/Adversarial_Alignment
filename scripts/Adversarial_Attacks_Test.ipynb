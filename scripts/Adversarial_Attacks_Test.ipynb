{
 "cells": [
  {
   "cell_type": "code",
   "execution_count": null,
   "metadata": {
    "executionInfo": {
     "elapsed": 5,
     "status": "ok",
     "timestamp": 1680707751813,
     "user": {
      "displayName": "FENG Pinyuan",
      "userId": "16238921250041619986"
     },
     "user_tz": 240
    },
    "id": "c-sB_YNexLgo"
   },
   "outputs": [
    {
     "ename": "",
     "evalue": "",
     "output_type": "error",
     "traceback": [
      "\u001b[1;31mRunning cells with 'cs1430' requires the ipykernel package.\n",
      "\u001b[1;31mRun the following command to install 'ipykernel' into the Python environment. \n",
      "\u001b[1;31mCommand: 'conda install -n cs1430 ipykernel --update-deps --force-reinstall'"
     ]
    }
   ],
   "source": [
    "# Reference: 021_HFI_Benchmark_Pytorch.ipynb\n",
    "#            https://colab.research.google.com/drive/1kefMUU1lpzUdRQRh47jD_IyPiCwDD4x3#scrollTo=0OJUdCH_Qdd7"
   ]
  },
  {
   "cell_type": "markdown",
   "metadata": {
    "id": "aoDhjQ6-2pd8"
   },
   "source": [
    "# Libraries & Dependencies Import"
   ]
  },
  {
   "cell_type": "code",
   "execution_count": null,
   "metadata": {
    "colab": {
     "base_uri": "https://localhost:8080/"
    },
    "executionInfo": {
     "elapsed": 47015,
     "status": "ok",
     "timestamp": 1680707798824,
     "user": {
      "displayName": "FENG Pinyuan",
      "userId": "16238921250041619986"
     },
     "user_tz": 240
    },
    "id": "pqzbMgT2vHN_",
    "outputId": "605bedb1-b7a8-4f5b-fce7-098967286108"
   },
   "outputs": [
    {
     "ename": "",
     "evalue": "",
     "output_type": "error",
     "traceback": [
      "\u001b[1;31mRunning cells with 'cs1430' requires the ipykernel package.\n",
      "\u001b[1;31mRun the following command to install 'ipykernel' into the Python environment. \n",
      "\u001b[1;31mCommand: 'conda install -n cs1430 ipykernel --update-deps --force-reinstall'"
     ]
    }
   ],
   "source": [
    "import numpy as np\n",
    "import tensorflow as tf\n",
    "import torch\n",
    "import matplotlib.pyplot as plt\n",
    "import pandas as pd\n",
    "from scipy.ndimage import gaussian_filter\n",
    "from tqdm import tqdm\n",
    "\n",
    "import torch\n",
    "import torch.nn as nn\n",
    "import torch.nn.functional as F\n",
    "import torch.optim as optim\n",
    "from torchvision import datasets, transforms\n",
    "device = torch.device(\"cuda:0\")\n",
    "\n",
    "def warn(*args, **kwargs):\n",
    "    pass\n",
    "import warnings\n",
    "warnings.warn = warn"
   ]
  },
  {
   "cell_type": "markdown",
   "metadata": {
    "id": "3T5-shHg2gZv"
   },
   "source": [
    "# ImageNet Data Info"
   ]
  },
  {
   "cell_type": "code",
   "execution_count": null,
   "metadata": {
    "executionInfo": {
     "elapsed": 6,
     "status": "ok",
     "timestamp": 1680707812433,
     "user": {
      "displayName": "FENG Pinyuan",
      "userId": "16238921250041619986"
     },
     "user_tz": 240
    },
    "id": "Aqxieb1B2KB6"
   },
   "outputs": [
    {
     "ename": "",
     "evalue": "",
     "output_type": "error",
     "traceback": [
      "\u001b[1;31mRunning cells with 'cs1430' requires the ipykernel package.\n",
      "\u001b[1;31mRun the following command to install 'ipykernel' into the Python environment. \n",
      "\u001b[1;31mCommand: 'conda install -n cs1430 ipykernel --update-deps --force-reinstall'"
     ]
    }
   ],
   "source": [
    "imagenet_classes = [\"tench\", \"goldfish\", \"great white shark\", \"tiger shark\", \"hammerhead shark\", \"electric ray\", \"stingray\", \"rooster\", \"hen\", \"ostrich\", \"brambling\", \"goldfinch\", \"house finch\", \"junco\", \"indigo bunting\", \"American robin\", \"bulbul\", \"jay\", \"magpie\", \"chickadee\", \"American dipper\", \"kite (bird of prey)\", \"bald eagle\", \"vulture\", \"great grey owl\", \"fire salamander\", \"smooth newt\", \"newt\", \"spotted salamander\", \"axolotl\", \"American bullfrog\", \"tree frog\", \"tailed frog\", \"loggerhead sea turtle\", \"leatherback sea turtle\", \"mud turtle\", \"terrapin\", \"box turtle\", \"banded gecko\", \"green iguana\", \"Carolina anole\", \"desert grassland whiptail lizard\", \"agama\", \"frilled-necked lizard\", \"alligator lizard\", \"Gila monster\", \"European green lizard\", \"chameleon\", \"Komodo dragon\", \"Nile crocodile\", \"American alligator\", \"triceratops\", \"worm snake\", \"ring-necked snake\", \"eastern hog-nosed snake\", \"smooth green snake\", \"kingsnake\", \"garter snake\", \"water snake\", \"vine snake\", \"night snake\", \"boa constrictor\", \"African rock python\", \"Indian cobra\", \"green mamba\", \"sea snake\", \"Saharan horned viper\", \"eastern diamondback rattlesnake\", \"sidewinder rattlesnake\", \"trilobite\", \"harvestman\", \"scorpion\", \"yellow garden spider\", \"barn spider\", \"European garden spider\", \"southern black widow\", \"tarantula\", \"wolf spider\", \"tick\", \"centipede\", \"black grouse\", \"ptarmigan\", \"ruffed grouse\", \"prairie grouse\", \"peafowl\", \"quail\", \"partridge\", \"african grey parrot\", \"macaw\", \"sulphur-crested cockatoo\", \"lorikeet\", \"coucal\", \"bee eater\", \"hornbill\", \"hummingbird\", \"jacamar\", \"toucan\", \"duck\", \"red-breasted merganser\", \"goose\", \"black swan\", \"tusker\", \"echidna\", \"platypus\", \"wallaby\", \"koala\", \"wombat\", \"jellyfish\", \"sea anemone\", \"brain coral\", \"flatworm\", \"nematode\", \"conch\", \"snail\", \"slug\", \"sea slug\", \"chiton\", \"chambered nautilus\", \"Dungeness crab\", \"rock crab\", \"fiddler crab\", \"red king crab\", \"American lobster\", \"spiny lobster\", \"crayfish\", \"hermit crab\", \"isopod\", \"white stork\", \"black stork\", \"spoonbill\", \"flamingo\", \"little blue heron\", \"great egret\", \"bittern bird\", \"crane bird\", \"limpkin\", \"common gallinule\", \"American coot\", \"bustard\", \"ruddy turnstone\", \"dunlin\", \"common redshank\", \"dowitcher\", \"oystercatcher\", \"pelican\", \"king penguin\", \"albatross\", \"grey whale\", \"killer whale\", \"dugong\", \"sea lion\", \"Chihuahua\", \"Japanese Chin\", \"Maltese\", \"Pekingese\", \"Shih Tzu\", \"King Charles Spaniel\", \"Papillon\", \"toy terrier\", \"Rhodesian Ridgeback\", \"Afghan Hound\", \"Basset Hound\", \"Beagle\", \"Bloodhound\", \"Bluetick Coonhound\", \"Black and Tan Coonhound\", \"Treeing Walker Coonhound\", \"English foxhound\", \"Redbone Coonhound\", \"borzoi\", \"Irish Wolfhound\", \"Italian Greyhound\", \"Whippet\", \"Ibizan Hound\", \"Norwegian Elkhound\", \"Otterhound\", \"Saluki\", \"Scottish Deerhound\", \"Weimaraner\", \"Staffordshire Bull Terrier\", \"American Staffordshire Terrier\", \"Bedlington Terrier\", \"Border Terrier\", \"Kerry Blue Terrier\", \"Irish Terrier\", \"Norfolk Terrier\", \"Norwich Terrier\", \"Yorkshire Terrier\", \"Wire Fox Terrier\", \"Lakeland Terrier\", \"Sealyham Terrier\", \"Airedale Terrier\", \"Cairn Terrier\", \"Australian Terrier\", \"Dandie Dinmont Terrier\", \"Boston Terrier\", \"Miniature Schnauzer\", \"Giant Schnauzer\", \"Standard Schnauzer\", \"Scottish Terrier\", \"Tibetan Terrier\", \"Australian Silky Terrier\", \"Soft-coated Wheaten Terrier\", \"West Highland White Terrier\", \"Lhasa Apso\", \"Flat-Coated Retriever\", \"Curly-coated Retriever\", \"Golden Retriever\", \"Labrador Retriever\", \"Chesapeake Bay Retriever\", \"German Shorthaired Pointer\", \"Vizsla\", \"English Setter\", \"Irish Setter\", \"Gordon Setter\", \"Brittany dog\", \"Clumber Spaniel\", \"English Springer Spaniel\", \"Welsh Springer Spaniel\", \"Cocker Spaniel\", \"Sussex Spaniel\", \"Irish Water Spaniel\", \"Kuvasz\", \"Schipperke\", \"Groenendael dog\", \"Malinois\", \"Briard\", \"Australian Kelpie\", \"Komondor\", \"Old English Sheepdog\", \"Shetland Sheepdog\", \"collie\", \"Border Collie\", \"Bouvier des Flandres dog\", \"Rottweiler\", \"German Shepherd Dog\", \"Dobermann\", \"Miniature Pinscher\", \"Greater Swiss Mountain Dog\", \"Bernese Mountain Dog\", \"Appenzeller Sennenhund\", \"Entlebucher Sennenhund\", \"Boxer\", \"Bullmastiff\", \"Tibetan Mastiff\", \"French Bulldog\", \"Great Dane\", \"St. Bernard\", \"husky\", \"Alaskan Malamute\", \"Siberian Husky\", \"Dalmatian\", \"Affenpinscher\", \"Basenji\", \"pug\", \"Leonberger\", \"Newfoundland dog\", \"Great Pyrenees dog\", \"Samoyed\", \"Pomeranian\", \"Chow Chow\", \"Keeshond\", \"brussels griffon\", \"Pembroke Welsh Corgi\", \"Cardigan Welsh Corgi\", \"Toy Poodle\", \"Miniature Poodle\", \"Standard Poodle\", \"Mexican hairless dog (xoloitzcuintli)\", \"grey wolf\", \"Alaskan tundra wolf\", \"red wolf or maned wolf\", \"coyote\", \"dingo\", \"dhole\", \"African wild dog\", \"hyena\", \"red fox\", \"kit fox\", \"Arctic fox\", \"grey fox\", \"tabby cat\", \"tiger cat\", \"Persian cat\", \"Siamese cat\", \"Egyptian Mau\", \"cougar\", \"lynx\", \"leopard\", \"snow leopard\", \"jaguar\", \"lion\", \"tiger\", \"cheetah\", \"brown bear\", \"American black bear\", \"polar bear\", \"sloth bear\", \"mongoose\", \"meerkat\", \"tiger beetle\", \"ladybug\", \"ground beetle\", \"longhorn beetle\", \"leaf beetle\", \"dung beetle\", \"rhinoceros beetle\", \"weevil\", \"fly\", \"bee\", \"ant\", \"grasshopper\", \"cricket insect\", \"stick insect\", \"cockroach\", \"praying mantis\", \"cicada\", \"leafhopper\", \"lacewing\", \"dragonfly\", \"damselfly\", \"red admiral butterfly\", \"ringlet butterfly\", \"monarch butterfly\", \"small white butterfly\", \"sulphur butterfly\", \"gossamer-winged butterfly\", \"starfish\", \"sea urchin\", \"sea cucumber\", \"cottontail rabbit\", \"hare\", \"Angora rabbit\", \"hamster\", \"porcupine\", \"fox squirrel\", \"marmot\", \"beaver\", \"guinea pig\", \"common sorrel horse\", \"zebra\", \"pig\", \"wild boar\", \"warthog\", \"hippopotamus\", \"ox\", \"water buffalo\", \"bison\", \"ram (adult male sheep)\", \"bighorn sheep\", \"Alpine ibex\", \"hartebeest\", \"impala (antelope)\", \"gazelle\", \"arabian camel\", \"llama\", \"weasel\", \"mink\", \"European polecat\", \"black-footed ferret\", \"otter\", \"skunk\", \"badger\", \"armadillo\", \"three-toed sloth\", \"orangutan\", \"gorilla\", \"chimpanzee\", \"gibbon\", \"siamang\", \"guenon\", \"patas monkey\", \"baboon\", \"macaque\", \"langur\", \"black-and-white colobus\", \"proboscis monkey\", \"marmoset\", \"white-headed capuchin\", \"howler monkey\", \"titi monkey\", \"Geoffroy's spider monkey\", \"common squirrel monkey\", \"ring-tailed lemur\", \"indri\", \"Asian elephant\", \"African bush elephant\", \"red panda\", \"giant panda\", \"snoek fish\", \"eel\", \"silver salmon\", \"rock beauty fish\", \"clownfish\", \"sturgeon\", \"gar fish\", \"lionfish\", \"pufferfish\", \"abacus\", \"abaya\", \"academic gown\", \"accordion\", \"acoustic guitar\", \"aircraft carrier\", \"airliner\", \"airship\", \"altar\", \"ambulance\", \"amphibious vehicle\", \"analog clock\", \"apiary\", \"apron\", \"trash can\", \"assault rifle\", \"backpack\", \"bakery\", \"balance beam\", \"balloon\", \"ballpoint pen\", \"Band-Aid\", \"banjo\", \"baluster / handrail\", \"barbell\", \"barber chair\", \"barbershop\", \"barn\", \"barometer\", \"barrel\", \"wheelbarrow\", \"baseball\", \"basketball\", \"bassinet\", \"bassoon\", \"swimming cap\", \"bath towel\", \"bathtub\", \"station wagon\", \"lighthouse\", \"beaker\", \"military hat (bearskin or shako)\", \"beer bottle\", \"beer glass\", \"bell tower\", \"baby bib\", \"tandem bicycle\", \"bikini\", \"ring binder\", \"binoculars\", \"birdhouse\", \"boathouse\", \"bobsleigh\", \"bolo tie\", \"poke bonnet\", \"bookcase\", \"bookstore\", \"bottle cap\", \"hunting bow\", \"bow tie\", \"brass memorial plaque\", \"bra\", \"breakwater\", \"breastplate\", \"broom\", \"bucket\", \"buckle\", \"bulletproof vest\", \"high-speed train\", \"butcher shop\", \"taxicab\", \"cauldron\", \"candle\", \"cannon\", \"canoe\", \"can opener\", \"cardigan\", \"car mirror\", \"carousel\", \"tool kit\", \"cardboard box / carton\", \"car wheel\", \"automated teller machine\", \"cassette\", \"cassette player\", \"castle\", \"catamaran\", \"CD player\", \"cello\", \"mobile phone\", \"chain\", \"chain-link fence\", \"chain mail\", \"chainsaw\", \"storage chest\", \"chiffonier\", \"bell or wind chime\", \"china cabinet\", \"Christmas stocking\", \"church\", \"movie theater\", \"cleaver\", \"cliff dwelling\", \"cloak\", \"clogs\", \"cocktail shaker\", \"coffee mug\", \"coffeemaker\", \"spiral or coil\", \"combination lock\", \"computer keyboard\", \"candy store\", \"container ship\", \"convertible\", \"corkscrew\", \"cornet\", \"cowboy boot\", \"cowboy hat\", \"cradle\", \"construction crane\", \"crash helmet\", \"crate\", \"infant bed\", \"Crock Pot\", \"croquet ball\", \"crutch\", \"cuirass\", \"dam\", \"desk\", \"desktop computer\", \"rotary dial telephone\", \"diaper\", \"digital clock\", \"digital watch\", \"dining table\", \"dishcloth\", \"dishwasher\", \"disc brake\", \"dock\", \"dog sled\", \"dome\", \"doormat\", \"drilling rig\", \"drum\", \"drumstick\", \"dumbbell\", \"Dutch oven\", \"electric fan\", \"electric guitar\", \"electric locomotive\", \"entertainment center\", \"envelope\", \"espresso machine\", \"face powder\", \"feather boa\", \"filing cabinet\", \"fireboat\", \"fire truck\", \"fire screen\", \"flagpole\", \"flute\", \"folding chair\", \"football helmet\", \"forklift\", \"fountain\", \"fountain pen\", \"four-poster bed\", \"freight car\", \"French horn\", \"frying pan\", \"fur coat\", \"garbage truck\", \"gas mask or respirator\", \"gas pump\", \"goblet\", \"go-kart\", \"golf ball\", \"golf cart\", \"gondola\", \"gong\", \"gown\", \"grand piano\", \"greenhouse\", \"radiator grille\", \"grocery store\", \"guillotine\", \"hair clip\", \"hair spray\", \"half-track\", \"hammer\", \"hamper\", \"hair dryer\", \"hand-held computer\", \"handkerchief\", \"hard disk drive\", \"harmonica\", \"harp\", \"combine harvester\", \"hatchet\", \"holster\", \"home theater\", \"honeycomb\", \"hook\", \"hoop skirt\", \"gymnastic horizontal bar\", \"horse-drawn vehicle\", \"hourglass\", \"iPod\", \"clothes iron\", \"carved pumpkin\", \"jeans\", \"jeep\", \"T-shirt\", \"jigsaw puzzle\", \"rickshaw\", \"joystick\", \"kimono\", \"knee pad\", \"knot\", \"lab coat\", \"ladle\", \"lampshade\", \"laptop computer\", \"lawn mower\", \"lens cap\", \"letter opener\", \"library\", \"lifeboat\", \"lighter\", \"limousine\", \"ocean liner\", \"lipstick\", \"slip-on shoe\", \"lotion\", \"music speaker\", \"loupe magnifying glass\", \"sawmill\", \"magnetic compass\", \"messenger bag\", \"mailbox\", \"tights\", \"one-piece bathing suit\", \"manhole cover\", \"maraca\", \"marimba\", \"mask\", \"matchstick\", \"maypole\", \"maze\", \"measuring cup\", \"medicine cabinet\", \"megalith\", \"microphone\", \"microwave oven\", \"military uniform\", \"milk can\", \"minibus\", \"miniskirt\", \"minivan\", \"missile\", \"mitten\", \"mixing bowl\", \"mobile home\", \"ford model t\", \"modem\", \"monastery\", \"monitor\", \"moped\", \"mortar and pestle\", \"graduation cap\", \"mosque\", \"mosquito net\", \"vespa\", \"mountain bike\", \"tent\", \"computer mouse\", \"mousetrap\", \"moving van\", \"muzzle\", \"metal nail\", \"neck brace\", \"necklace\", \"baby pacifier\", \"notebook computer\", \"obelisk\", \"oboe\", \"ocarina\", \"odometer\", \"oil filter\", \"pipe organ\", \"oscilloscope\", \"overskirt\", \"bullock cart\", \"oxygen mask\", \"product packet / packaging\", \"paddle\", \"paddle wheel\", \"padlock\", \"paintbrush\", \"pajamas\", \"palace\", \"pan flute\", \"paper towel\", \"parachute\", \"parallel bars\", \"park bench\", \"parking meter\", \"railroad car\", \"patio\", \"payphone\", \"pedestal\", \"pencil case\", \"pencil sharpener\", \"perfume\", \"Petri dish\", \"photocopier\", \"plectrum\", \"Pickelhaube\", \"picket fence\", \"pickup truck\", \"pier\", \"piggy bank\", \"pill bottle\", \"pillow\", \"ping-pong ball\", \"pinwheel\", \"pirate ship\", \"drink pitcher\", \"block plane\", \"planetarium\", \"plastic bag\", \"plate rack\", \"farm plow\", \"plunger\", \"Polaroid camera\", \"pole\", \"police van\", \"poncho\", \"pool table\", \"soda bottle\", \"plant pot\", \"potter's wheel\", \"power drill\", \"prayer rug\", \"printer\", \"prison\", \"missile\", \"projector\", \"hockey puck\", \"punching bag\", \"purse\", \"quill\", \"quilt\", \"race car\", \"racket\", \"radiator\", \"radio\", \"radio telescope\", \"rain barrel\", \"recreational vehicle\", \"fishing casting reel\", \"reflex camera\", \"refrigerator\", \"remote control\", \"restaurant\", \"revolver\", \"rifle\", \"rocking chair\", \"rotisserie\", \"eraser\", \"rugby ball\", \"ruler measuring stick\", \"sneaker\", \"safe\", \"safety pin\", \"salt shaker\", \"sandal\", \"sarong\", \"saxophone\", \"scabbard\", \"weighing scale\", \"school bus\", \"schooner\", \"scoreboard\", \"CRT monitor\", \"screw\", \"screwdriver\", \"seat belt\", \"sewing machine\", \"shield\", \"shoe store\", \"shoji screen / room divider\", \"shopping basket\", \"shopping cart\", \"shovel\", \"shower cap\", \"shower curtain\", \"ski\", \"balaclava ski mask\", \"sleeping bag\", \"slide rule\", \"sliding door\", \"slot machine\", \"snorkel\", \"snowmobile\", \"snowplow\", \"soap dispenser\", \"soccer ball\", \"sock\", \"solar thermal collector\", \"sombrero\", \"soup bowl\", \"keyboard space bar\", \"space heater\", \"space shuttle\", \"spatula\", \"motorboat\", \"spider web\", \"spindle\", \"sports car\", \"spotlight\", \"stage\", \"steam locomotive\", \"through arch bridge\", \"steel drum\", \"stethoscope\", \"scarf\", \"stone wall\", \"stopwatch\", \"stove\", \"strainer\", \"tram\", \"stretcher\", \"couch\", \"stupa\", \"submarine\", \"suit\", \"sundial\", \"sunglasses\", \"sunglasses\", \"sunscreen\", \"suspension bridge\", \"mop\", \"sweatshirt\", \"swim trunks / shorts\", \"swing\", \"electrical switch\", \"syringe\", \"table lamp\", \"tank\", \"tape player\", \"teapot\", \"teddy bear\", \"television\", \"tennis ball\", \"thatched roof\", \"front curtain\", \"thimble\", \"threshing machine\", \"throne\", \"tile roof\", \"toaster\", \"tobacco shop\", \"toilet seat\", \"torch\", \"totem pole\", \"tow truck\", \"toy store\", \"tractor\", \"semi-trailer truck\", \"tray\", \"trench coat\", \"tricycle\", \"trimaran\", \"tripod\", \"triumphal arch\", \"trolleybus\", \"trombone\", \"hot tub\", \"turnstile\", \"typewriter keyboard\", \"umbrella\", \"unicycle\", \"upright piano\", \"vacuum cleaner\", \"vase\", \"vaulted or arched ceiling\", \"velvet fabric\", \"vending machine\", \"vestment\", \"viaduct\", \"violin\", \"volleyball\", \"waffle iron\", \"wall clock\", \"wallet\", \"wardrobe\", \"military aircraft\", \"sink\", \"washing machine\", \"water bottle\", \"water jug\", \"water tower\", \"whiskey jug\", \"whistle\", \"hair wig\", \"window screen\", \"window shade\", \"Windsor tie\", \"wine bottle\", \"airplane wing\", \"wok\", \"wooden spoon\", \"wool\", \"split-rail fence\", \"shipwreck\", \"sailboat\", \"yurt\", \"website\", \"comic book\", \"crossword\", \"traffic or street sign\", \"traffic light\", \"dust jacket\", \"menu\", \"plate\", \"guacamole\", \"consomme\", \"hot pot\", \"trifle\", \"ice cream\", \"popsicle\", \"baguette\", \"bagel\", \"pretzel\", \"cheeseburger\", \"hot dog\", \"mashed potatoes\", \"cabbage\", \"broccoli\", \"cauliflower\", \"zucchini\", \"spaghetti squash\", \"acorn squash\", \"butternut squash\", \"cucumber\", \"artichoke\", \"bell pepper\", \"cardoon\", \"mushroom\", \"Granny Smith apple\", \"strawberry\", \"orange\", \"lemon\", \"fig\", \"pineapple\", \"banana\", \"jackfruit\", \"cherimoya (custard apple)\", \"pomegranate\", \"hay\", \"carbonara\", \"chocolate syrup\", \"dough\", \"meatloaf\", \"pizza\", \"pot pie\", \"burrito\", \"red wine\", \"espresso\", \"tea cup\", \"eggnog\", \"mountain\", \"bubble\", \"cliff\", \"coral reef\", \"geyser\", \"lakeshore\", \"promontory\", \"sandbar\", \"beach\", \"valley\", \"volcano\", \"baseball player\", \"bridegroom\", \"scuba diver\", \"rapeseed\", \"daisy\", \"yellow lady's slipper\", \"corn\", \"acorn\", \"rose hip\", \"horse chestnut seed\", \"coral fungus\", \"agaric\", \"gyromitra\", \"stinkhorn mushroom\", \"earth star fungus\", \"hen of the woods mushroom\", \"bolete\", \"corn cob\", \"toilet paper\"]"
   ]
  },
  {
   "cell_type": "code",
   "execution_count": null,
   "metadata": {},
   "outputs": [
    {
     "ename": "",
     "evalue": "",
     "output_type": "error",
     "traceback": [
      "\u001b[1;31mRunning cells with 'cs1430' requires the ipykernel package.\n",
      "\u001b[1;31mRun the following command to install 'ipykernel' into the Python environment. \n",
      "\u001b[1;31mCommand: 'conda install -n cs1430 ipykernel --update-deps --force-reinstall'"
     ]
    }
   ],
   "source": [
    "data_path = './datasets/clickme_test_1000.tfrecords'"
   ]
  },
  {
   "cell_type": "markdown",
   "metadata": {
    "id": "V3C4arEG27S6"
   },
   "source": [
    "# Building Dataset"
   ]
  },
  {
   "cell_type": "code",
   "execution_count": null,
   "metadata": {
    "colab": {
     "base_uri": "https://localhost:8080/",
     "height": 0,
     "output_embedded_package_id": "1A4xi6YDleW91RK4jpn_ozuHe3FJClY5A"
    },
    "executionInfo": {
     "elapsed": 12167,
     "status": "ok",
     "timestamp": 1680707824595,
     "user": {
      "displayName": "FENG Pinyuan",
      "userId": "16238921250041619986"
     },
     "user_tz": 240
    },
    "id": "l7xdT8N6z05Q",
    "outputId": "4d01a67a-5945-4737-c50d-0a2a469276ce"
   },
   "outputs": [
    {
     "ename": "",
     "evalue": "",
     "output_type": "error",
     "traceback": [
      "\u001b[1;31mRunning cells with 'cs1430' requires the ipykernel package.\n",
      "\u001b[1;31mRun the following command to install 'ipykernel' into the Python environment. \n",
      "\u001b[1;31mCommand: 'conda install -n cs1430 ipykernel --update-deps --force-reinstall'"
     ]
    }
   ],
   "source": [
    "AUTO = tf.data.AUTOTUNE\n",
    "BLUR_KERNEL_SIZE = 10\n",
    "BLUR_SIGMA = 10\n",
    "\n",
    "_feature_description = {\n",
    "      \"image\"       : tf.io.FixedLenFeature([], tf.string, default_value=''),\n",
    "      \"heatmap\"     : tf.io.FixedLenFeature([], tf.string, default_value=''),\n",
    "      \"label\"       : tf.io.FixedLenFeature([], tf.int64, default_value=0),\n",
    "}\n",
    "\n",
    "def set_size(w,h):\n",
    "    \"\"\"Set matplot figure size\"\"\"\n",
    "    plt.rcParams[\"figure.figsize\"] = [w,h]\n",
    "    \n",
    "def show(img, p=False, smooth=False, **kwargs):\n",
    "    \"\"\" Display torch/tf tensor \"\"\" \n",
    "    try:\n",
    "        img = img.detach().cpu()\n",
    "    except:\n",
    "        img = np.array(img)\n",
    "\n",
    "    img = np.array(img, dtype=np.float32)\n",
    "\n",
    "    # check if channel first\n",
    "    if img.shape[0] == 1:\n",
    "        img = img[0]\n",
    "    elif img.shape[0] == 3:\n",
    "        img = np.moveaxis(img, 0, -1)\n",
    "\n",
    "    # check if cmap\n",
    "    if img.shape[-1] == 1:\n",
    "        img = img[:,:,0]\n",
    "\n",
    "    # normalize\n",
    "    if img.max() > 1 or img.min() < 0:\n",
    "        img -= img.min(); img/=img.max()\n",
    "\n",
    "    # check if clip percentile\n",
    "    if p is not False:\n",
    "        img = np.clip(img, np.percentile(img, p), np.percentile(img, 100-p))\n",
    "\n",
    "    if smooth and len(img.shape) == 2:\n",
    "        img = gaussian_filter(img, smooth)\n",
    "\n",
    "    plt.imshow(img, **kwargs)\n",
    "    plt.axis('off')\n",
    "    plt.grid(None)\n",
    "\n",
    "def parse_prototype(prototype, training=False):\n",
    "    data    = tf.io.parse_single_example(prototype, _feature_description)\n",
    "\n",
    "    image   = tf.io.decode_raw(data['image'], tf.float32)\n",
    "    image   = tf.reshape(image, (224, 224, 3))\n",
    "    image   = tf.cast(image, tf.float32)\n",
    "\n",
    "    heatmap = tf.io.decode_raw(data['heatmap'], tf.float32)\n",
    "    heatmap = tf.reshape(heatmap, (224, 224, 1))\n",
    "\n",
    "    label   = tf.cast(data['label'], tf.int32)\n",
    "    label   = tf.one_hot(label, 1_000)\n",
    "\n",
    "    return image, heatmap, label\n",
    "\n",
    "def get_dataset(batch_size, training=False):\n",
    "    deterministic_order = tf.data.Options()\n",
    "    deterministic_order.experimental_deterministic = True\n",
    "\n",
    "    dataset = tf.data.TFRecordDataset([data_path], num_parallel_reads=AUTO)\n",
    "    dataset = dataset.with_options(deterministic_order) \n",
    "      \n",
    "    dataset = dataset.map(parse_prototype, num_parallel_calls=AUTO)\n",
    "    \n",
    "    dataset = dataset.batch(batch_size, drop_remainder=True)\n",
    "    dataset = dataset.prefetch(AUTO)\n",
    "\n",
    "    return dataset\n",
    "  \n",
    "# dataset = get_dataset(10, False)\n",
    "# cnt = 0\n",
    "# for imgs, hmps, labels in dataset: # image, heatmap, label\n",
    "#     for img, hmp, label in zip(imgs, hmps, labels):\n",
    "#         print(img.dtype, label.dtype, img.shape)\n",
    "#         img = tf.cast(img, tf.float32).numpy()\n",
    "#         img -= img.min()\n",
    "#         img /= img.max()\n",
    "\n",
    "#         hmp = tf.cast(hmp, tf.float32).numpy()\n",
    "\n",
    "#         show(img)\n",
    "#         show(hmp, cmap='jet', alpha=0.3)\n",
    "#         print(imagenet_classes[np.argmax(label)])\n",
    "#         plt.title(f\"{hmp.shape} H({hmp.mean()} {hmp.std()}), X({img.min()} {img.max()})\")\n",
    "#         plt.axis('off')\n",
    "#         plt.show()\n",
    "#         print('\\n\\n\\n')\n",
    "\n",
    "#     cnt += 1\n",
    "#     if cnt > 10:\n",
    "#         break\n",
    "#     break"
   ]
  },
  {
   "cell_type": "markdown",
   "metadata": {
    "id": "pcRVGYva5CXa"
   },
   "source": [
    "# Utils"
   ]
  },
  {
   "cell_type": "code",
   "execution_count": null,
   "metadata": {
    "executionInfo": {
     "elapsed": 15,
     "status": "ok",
     "timestamp": 1680707824596,
     "user": {
      "displayName": "FENG Pinyuan",
      "userId": "16238921250041619986"
     },
     "user_tz": 240
    },
    "id": "sDkeRKZB3uYy"
   },
   "outputs": [
    {
     "ename": "",
     "evalue": "",
     "output_type": "error",
     "traceback": [
      "\u001b[1;31mRunning cells with 'cs1430' requires the ipykernel package.\n",
      "\u001b[1;31mRun the following command to install 'ipykernel' into the Python environment. \n",
      "\u001b[1;31mCommand: 'conda install -n cs1430 ipykernel --update-deps --force-reinstall'"
     ]
    }
   ],
   "source": [
    "def _tf_to_torch(t): # a batch of image tensors (N, H, W, 3)\n",
    "    t = tf.cast(t, tf.float32).numpy()\n",
    "    if t.shape[-1] in [1, 3]:\n",
    "        t = torch.from_numpy(t.transpose(0, 3, 1, 2)) # torch.from_numpy(np_array.transpose(0, 3, 1, 2)) \n",
    "        return t\n",
    "    return torch.from_numpy(t) # (N, 3, H, W)\n",
    "\n",
    "def img_normalize(imgs):\n",
    "    imgs = imgs - imgs.min()\n",
    "    imgs = imgs / imgs.max()\n",
    "    return imgs"
   ]
  },
  {
   "cell_type": "markdown",
   "metadata": {
    "id": "bWZ28lKb3ESh"
   },
   "source": [
    "# Load Models"
   ]
  },
  {
   "cell_type": "code",
   "execution_count": null,
   "metadata": {
    "colab": {
     "base_uri": "https://localhost:8080/"
    },
    "executionInfo": {
     "elapsed": 1993,
     "status": "ok",
     "timestamp": 1680707826575,
     "user": {
      "displayName": "FENG Pinyuan",
      "userId": "16238921250041619986"
     },
     "user_tz": 240
    },
    "id": "fxQB6gsy3Dqs",
    "outputId": "9719170a-65f7-4e87-8655-1f21e4010166"
   },
   "outputs": [
    {
     "ename": "",
     "evalue": "",
     "output_type": "error",
     "traceback": [
      "\u001b[1;31mRunning cells with 'cs1430' requires the ipykernel package.\n",
      "\u001b[1;31mRun the following command to install 'ipykernel' into the Python environment. \n",
      "\u001b[1;31mCommand: 'conda install -n cs1430 ipykernel --update-deps --force-reinstall'"
     ]
    }
   ],
   "source": [
    "try:\n",
    "    import modelvshuman\n",
    "except:\n",
    "    pass\n",
    "  \n",
    "import modelvshuman\n",
    "from modelvshuman import models\n",
    "\n",
    "print(len(models.list_models(\"tensorflow\")))\n",
    "print(len(models.list_models(\"pytorch\")))"
   ]
  },
  {
   "cell_type": "markdown",
   "metadata": {
    "id": "Of28g5awd-RQ"
   },
   "source": [
    "# Adversarial Example Generation"
   ]
  },
  {
   "cell_type": "code",
   "execution_count": null,
   "metadata": {
    "executionInfo": {
     "elapsed": 9,
     "status": "ok",
     "timestamp": 1680707826576,
     "user": {
      "displayName": "FENG Pinyuan",
      "userId": "16238921250041619986"
     },
     "user_tz": 240
    },
    "id": "Z8PeS_Fdd9Py"
   },
   "outputs": [
    {
     "ename": "",
     "evalue": "",
     "output_type": "error",
     "traceback": [
      "\u001b[1;31mRunning cells with 'cs1430' requires the ipykernel package.\n",
      "\u001b[1;31mRun the following command to install 'ipykernel' into the Python environment. \n",
      "\u001b[1;31mCommand: 'conda install -n cs1430 ipykernel --update-deps --force-reinstall'"
     ]
    }
   ],
   "source": [
    "import torchattacks\n",
    "# FGSM attack code\n",
    "def fgsm_attack(image, epsilon, data_grad):\n",
    "    # Collect the element-wise sign of the data gradient\n",
    "    sign_data_grad = data_grad.sign()\n",
    "    \n",
    "    # Create the perturbed image by adjusting each pixel of the input image\n",
    "    perturbed_image = image + epsilon*sign_data_grad\n",
    "    \n",
    "    # Adding clipping to maintain [0,1] range\n",
    "    perturbed_image = torch.clamp(perturbed_image, 0, 1)\n",
    "    \n",
    "    # Return the perturbed image\n",
    "    return perturbed_image"
   ]
  },
  {
   "cell_type": "markdown",
   "metadata": {
    "id": "kk9JcRg-qUpN"
   },
   "source": [
    "# Attack!!!"
   ]
  },
  {
   "cell_type": "code",
   "execution_count": null,
   "metadata": {
    "colab": {
     "base_uri": "https://localhost:8080/"
    },
    "executionInfo": {
     "elapsed": 1148106,
     "status": "ok",
     "timestamp": 1680711418139,
     "user": {
      "displayName": "FENG Pinyuan",
      "userId": "16238921250041619986"
     },
     "user_tz": 240
    },
    "id": "2TalOVQj43Gl",
    "outputId": "d95aed60-21d3-4d74-b38f-b4cf14065a65",
    "scrolled": true
   },
   "outputs": [
    {
     "ename": "",
     "evalue": "",
     "output_type": "error",
     "traceback": [
      "\u001b[1;31mRunning cells with 'cs1430' requires the ipykernel package.\n",
      "\u001b[1;31mRun the following command to install 'ipykernel' into the Python environment. \n",
      "\u001b[1;31mCommand: 'conda install -n cs1430 ipykernel --update-deps --force-reinstall'"
     ]
    }
   ],
   "source": [
    "zoo = modelvshuman.models.pytorch.model_zoo\n",
    "model = None\n",
    "\n",
    "list_models = models.list_models(\"pytorch\")\n",
    "# print(list_models)\n",
    "\n",
    "results_path = './results/FGSM_min_perturbation.csv'\n",
    "\n",
    "# for MODEL_NAME in list_models:\n",
    "offset = 37\n",
    "for i, MODEL_NAME in enumerate(list_models[offset:offset+1]): \n",
    "    print(str(i + offset), MODEL_NAME)\n",
    "    \n",
    "    try:\n",
    "        model = getattr(zoo, MODEL_NAME)(MODEL_NAME)\n",
    "        model = model.model.to(device)\n",
    "    except:\n",
    "        continue\n",
    "\n",
    "    model.eval()\n",
    "    \n",
    "   \n",
    "    clickme_dataset_test = get_dataset(1, False)\n",
    "    total_cnt, init_correct, aa_correct = 0, 0, 0\n",
    "    test_id = 896\n",
    "    for imgs, hmps, labels in clickme_dataset_test: # image, heatmap, label\n",
    "        imgs = _tf_to_torch(imgs).to(device)\n",
    "        imgs = img_normalize(imgs)\n",
    "        labels = _tf_to_torch(labels).to(device)\n",
    "        \n",
    "        for img, hmp, label in zip(imgs, hmps, labels):\n",
    "            # print(img.shape, hmp.shape, logit.shape) \n",
    "            total_cnt += 1\n",
    "            if total_cnt == test_id:\n",
    "                img = torch.unsqueeze(img, 0)\n",
    "                label = torch.unsqueeze(label, 0)\n",
    "                target = torch.argmax(label, axis=-1) # tensor([343], device='cuda:0')\n",
    "                break\n",
    "        print(\"\\rcnt = %s | 1000\" % str(total_cnt), end=\" \")\n",
    "        if total_cnt == test_id:\n",
    "            print(\" \")\n",
    "            break\n",
    "            \n",
    "img.size(), label.size(), target.size()\n",
    "\n",
    "# Set requires_grad attribute of tensor. Important for Attack\n",
    "img.requires_grad = True\n",
    "test_img = img          "
   ]
  },
  {
   "cell_type": "code",
   "execution_count": null,
   "metadata": {},
   "outputs": [
    {
     "ename": "",
     "evalue": "",
     "output_type": "error",
     "traceback": [
      "\u001b[1;31mRunning cells with 'cs1430' requires the ipykernel package.\n",
      "\u001b[1;31mRun the following command to install 'ipykernel' into the Python environment. \n",
      "\u001b[1;31mCommand: 'conda install -n cs1430 ipykernel --update-deps --force-reinstall'"
     ]
    }
   ],
   "source": [
    "epsilons = [0.1, 0.4, 0.8, 1, 5]\n",
    "p_imgs = []\n",
    "p_res = []\n",
    "for i, epsilon in enumerate(epsilons):\n",
    "\n",
    "    img = test_img\n",
    "    \n",
    "    # Forward pass the data through the model\n",
    "    output = model(img)\n",
    "    init_pred = torch.argmax(output, axis=-1) # get the index of the max log-probability\n",
    "\n",
    "    # If the initial prediction is wrong, dont bother attacking, just move on\n",
    "    if i == 0:\n",
    "        print(\"Target class: \", imagenet_classes[target])\n",
    "\n",
    "    # Collect datagrad\n",
    "    loss = F.nll_loss(output, target).to(device) # Calculate the loss\n",
    "    model.zero_grad() # Zero all existing gradients \n",
    "    loss.backward() # Calculate gradients of model in backward pass\n",
    "    data_grad = img.grad.data\n",
    "\n",
    "    # Call FGSM Attack\n",
    "    perturbed_img = fgsm_attack(img, epsilon, data_grad)\n",
    "\n",
    "    # Re-classify the perturbed image\n",
    "    output = model(perturbed_img)\n",
    "    final_pred = torch.argmax(output, axis=-1) # get the index of the max log-probability\n",
    "    perturbed_img = img_normalize(perturbed_img)\n",
    "    \n",
    "    model.zero_grad()\n",
    "    \n",
    "    p_imgs.append(img_normalize(perturbed_img.squeeze(0)).permute(1, 2, 0).cpu().detach().numpy())\n",
    "    p_res.append(imagenet_classes[final_pred])\n",
    "    \n",
    "# create figure\n",
    "fig = plt.figure(figsize=(20, 60))\n",
    "for i in range(len(epsilons)+1):\n",
    "    fig.add_subplot(1, len(epsilons)+1, i+1)\n",
    "    if i == 0:\n",
    "        plt.imshow(img_normalize(img.squeeze(0)).permute(1, 2, 0).cpu().detach().numpy())\n",
    "        plt.axis('off')\n",
    "        plt.title(imagenet_classes[init_pred])\n",
    "    else:\n",
    "        plt.imshow(p_imgs[i-1])\n",
    "        plt.axis('off')\n",
    "        plt.title(p_res[i-1] + '; eps = ' + str(epsilons[i-1]))\n",
    "    \n"
   ]
  },
  {
   "cell_type": "code",
   "execution_count": null,
   "metadata": {},
   "outputs": [
    {
     "ename": "",
     "evalue": "",
     "output_type": "error",
     "traceback": [
      "\u001b[1;31mRunning cells with 'cs1430' requires the ipykernel package.\n",
      "\u001b[1;31mRun the following command to install 'ipykernel' into the Python environment. \n",
      "\u001b[1;31mCommand: 'conda install -n cs1430 ipykernel --update-deps --force-reinstall'"
     ]
    }
   ],
   "source": [
    "# for MODEL_NAME in list_models:\n",
    "offset = 42\n",
    "for i, MODEL_NAME in enumerate(list_models[offset:offset+1]): \n",
    "    print(str(i + offset), MODEL_NAME)\n",
    "    \n",
    "    try:\n",
    "        model = getattr(zoo, MODEL_NAME)(MODEL_NAME)\n",
    "        model = model.model.to(device)\n",
    "    except:\n",
    "        continue\n",
    "\n",
    "    model.eval()\n",
    "    \n",
    "   \n",
    "    clickme_dataset_test = get_dataset(1, False)\n",
    "    total_cnt, init_correct, aa_correct = 0, 0, 0\n",
    "    test_id = 331\n",
    "    for imgs, hmps, labels in clickme_dataset_test: # image, heatmap, label\n",
    "        imgs = _tf_to_torch(imgs).to(device)\n",
    "        imgs = img_normalize(imgs)\n",
    "        labels = _tf_to_torch(labels).to(device)\n",
    "        \n",
    "        for img, hmp, label in zip(imgs, hmps, labels):\n",
    "            # print(img.shape, hmp.shape, logit.shape) \n",
    "            total_cnt += 1\n",
    "            if total_cnt == test_id:\n",
    "                img = torch.unsqueeze(img, 0)\n",
    "                label = torch.unsqueeze(label, 0)\n",
    "                target = torch.argmax(label, axis=-1) # tensor([343], device='cuda:0')\n",
    "                break\n",
    "        print(\"\\rcnt = %s | 1000\" % str(total_cnt), end=\" \")\n",
    "        if total_cnt == test_id:\n",
    "            print(\" \")\n",
    "            break\n",
    "            \n",
    "img.size(), label.size(), target.size()\n",
    "\n",
    "# Set requires_grad attribute of tensor. Important for Attack\n",
    "img.requires_grad = True\n",
    "test_img = img    "
   ]
  },
  {
   "cell_type": "code",
   "execution_count": null,
   "metadata": {},
   "outputs": [
    {
     "ename": "",
     "evalue": "",
     "output_type": "error",
     "traceback": [
      "\u001b[1;31mRunning cells with 'cs1430' requires the ipykernel package.\n",
      "\u001b[1;31mRun the following command to install 'ipykernel' into the Python environment. \n",
      "\u001b[1;31mCommand: 'conda install -n cs1430 ipykernel --update-deps --force-reinstall'"
     ]
    }
   ],
   "source": [
    "epsilons = [0.1, 0.4, 0.8, 1, 5]\n",
    "p_imgs = []\n",
    "p_res = []\n",
    "for i, epsilon in enumerate(epsilons):\n",
    "\n",
    "    img = test_img\n",
    "    \n",
    "    # Forward pass the data through the model\n",
    "    output = model(img)\n",
    "    init_pred = torch.argmax(output, axis=-1) # get the index of the max log-probability\n",
    "\n",
    "    # If the initial prediction is wrong, dont bother attacking, just move on\n",
    "    if i == 0:\n",
    "        print(\"Target class: \", imagenet_classes[target])\n",
    "\n",
    "    # Collect datagrad\n",
    "    model.zero_grad() # Zero all existing gradients\n",
    "    loss = F.nll_loss(output, target).to(device) # Calculate the loss    \n",
    "    loss.backward() # Calculate gradients of model in backward pass\n",
    "    data_grad = img.grad.data\n",
    "\n",
    "    # Call FGSM Attack\n",
    "    perturbed_img = fgsm_attack(img, epsilon, data_grad)\n",
    "\n",
    "    # Re-classify the perturbed image\n",
    "    output = model(perturbed_img)\n",
    "    final_pred = torch.argmax(output, axis=-1) # get the index of the max log-probability\n",
    "    perturbed_img = img_normalize(perturbed_img)\n",
    "    \n",
    "    p_imgs.append(img_normalize(perturbed_img.squeeze(0)).permute(1, 2, 0).cpu().detach().numpy())\n",
    "    p_res.append(imagenet_classes[final_pred])\n",
    "    \n",
    "# create figure\n",
    "fig = plt.figure(figsize=(20, 60))\n",
    "for i in range(len(epsilons)+1):\n",
    "    fig.add_subplot(1, len(epsilons)+1, i+1)\n",
    "    if i == 0:\n",
    "        plt.imshow(img_normalize(img.squeeze(0)).permute(1, 2, 0).cpu().detach().numpy())\n",
    "        plt.axis('off')\n",
    "        plt.title(imagenet_classes[init_pred])\n",
    "    else:\n",
    "        plt.imshow(p_imgs[i-1])\n",
    "        plt.axis('off')\n",
    "        plt.title(p_res[i-1] + '; eps = ' + str(epsilons[i-1]))\n",
    "    "
   ]
  },
  {
   "cell_type": "code",
   "execution_count": null,
   "metadata": {},
   "outputs": [
    {
     "ename": "",
     "evalue": "",
     "output_type": "error",
     "traceback": [
      "\u001b[1;31mRunning cells with 'cs1430' requires the ipykernel package.\n",
      "\u001b[1;31mRun the following command to install 'ipykernel' into the Python environment. \n",
      "\u001b[1;31mCommand: 'conda install -n cs1430 ipykernel --update-deps --force-reinstall'"
     ]
    }
   ],
   "source": []
  }
 ],
 "metadata": {
  "accelerator": "GPU",
  "colab": {
   "authorship_tag": "ABX9TyOTWw5pohEmNuBpojyyga4d",
   "collapsed_sections": [
    "aoDhjQ6-2pd8",
    "3T5-shHg2gZv",
    "V3C4arEG27S6"
   ],
   "provenance": []
  },
  "gpuClass": "standard",
  "kernelspec": {
   "display_name": "cs1430",
   "language": "python",
   "name": "python3"
  },
  "language_info": {
   "codemirror_mode": {
    "name": "ipython",
    "version": 3
   },
   "file_extension": ".py",
   "mimetype": "text/x-python",
   "name": "python",
   "nbconvert_exporter": "python",
   "pygments_lexer": "ipython3",
   "version": "3.9.15"
  },
  "vscode": {
   "interpreter": {
    "hash": "13633a82e44d23c5b726a27e5ac883a7223f9a4a7b83e785286bd0ce5daac262"
   }
  }
 },
 "nbformat": 4,
 "nbformat_minor": 1
}
